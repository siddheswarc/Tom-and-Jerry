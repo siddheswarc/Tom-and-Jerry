{
  "nbformat": 4,
  "nbformat_minor": 0,
  "metadata": {
    "colab": {
      "name": "Tom and Jerry in Reinforcement Learning.ipynb",
      "version": "0.3.2",
      "provenance": [],
      "collapsed_sections": []
    },
    "kernelspec": {
      "display_name": "Python 3",
      "language": "python",
      "name": "python3"
    },
    "accelerator": "TPU"
  },
  "cells": [
    {
      "metadata": {
        "colab_type": "text",
        "id": "wpdffOrctdb_"
      },
      "cell_type": "markdown",
      "source": [
        "# Tom and Jerry in Reinforcement Learning\n",
        "### By Siddheswar \"Sid\" Chandrasekhar\n",
        "<br>\n",
        "This project combines Reinforcement Learning and Deep Learning. The task is to teach the agent to navigate in the grid-world environment.\n",
        "<br>\n",
        "We have modeled Tom and Jerry cartoon, where Tom, a cat, is chasing Jerry, a mouse. In our modeled game the task for Tom (an agent) is to find the shortest path to Jerry (a goal), given that the initial positions of Tom and Jerry are changing on every reset of the game.\n",
        "\n",
        "To solve the problem, we would apply Deep Reinforcement Learning algorithm - DQN (Deep Q-Network), that was one of the first breakthrough successes in applying Deep Learning to Reinforcement Learning."
      ]
    },
    {
      "metadata": {
        "colab_type": "text",
        "id": "NJtQi9mYBBP1"
      },
      "cell_type": "markdown",
      "source": [
        "## 1 - Packages\n",
        "\n",
        "First, we import all the packages that we will need for this project.\n",
        "\n",
        "-  [random](https://docs.python.org/3/library/random.html) - generates pseudo-random numbers\n",
        "-  [math](https://docs.python.org/3/library/math.html?highlight=math#module-math) - provides access to the a big variety of mathematical functions\n",
        "-  [time](https://docs.python.org/3/library/time.html?highlight=time#module-time) - will be used to track how much time each computation takes\n",
        "- [numpy](http://www.numpy.org/) -  is the main package for scientific computing with Python\n",
        "- [keras](https://keras.io/) -  is a high-level neural networks API, we will use to biuild a neural network for our agent\n",
        "- [matplotlib](https://matplotlib.org/) - is a plotting library\n",
        "- [IPython](https://ipython.org/) - is an interactive shell, that will help us to display our framework"
      ]
    },
    {
      "metadata": {
        "colab_type": "code",
        "id": "io_a8t4stK-u",
        "outputId": "614e4647-d886-486b-c337-a53e52582545",
        "colab": {
          "base_uri": "https://localhost:8080/",
          "height": 34
        }
      },
      "cell_type": "code",
      "source": [
        "#!/usr/bin/env python\n",
        "# -*- coding: utf-8 -*-\n",
        "# @Author: Siddheswar C\n",
        "# @Email: innocentdevil.sid007@gmail.com\n",
        "\n",
        "\n",
        "import random, math, time\n",
        "import numpy as np\n",
        "from keras.models import Sequential\n",
        "from keras.layers import *\n",
        "from keras.optimizers import *\n",
        "\n",
        "import matplotlib\n",
        "# matplotlib.use(\"Agg\")\n",
        "import matplotlib.pyplot as plt\n",
        "from matplotlib.image import imread\n",
        "from matplotlib import rc, animation\n",
        "from IPython import display\n",
        "from IPython.display import HTML\n",
        "# %matplotlib inline\n",
        "\n",
        "plt.ioff()\n",
        "\n",
        "try:\n",
        "  from google.colab import files\n",
        "except:\n",
        "  print(\"Could not import Google Colab.\")"
      ],
      "execution_count": 1,
      "outputs": [
        {
          "output_type": "stream",
          "text": [
            "Using TensorFlow backend.\n"
          ],
          "name": "stderr"
        }
      ]
    },
    {
      "metadata": {
        "colab_type": "text",
        "id": "qbHAa4dlpxCO"
      },
      "cell_type": "markdown",
      "source": [
        "## 2 - Environment\n",
        "Here we define our grid-world environment."
      ]
    },
    {
      "metadata": {
        "colab_type": "code",
        "id": "RzzGQ1u7tOIc",
        "colab": {}
      },
      "cell_type": "code",
      "source": [
        "class Environment:\n",
        "\n",
        "  def __init__(self, grid_size):\n",
        "      self.grid_size = grid_size\n",
        "      \n",
        "      self.cat = imread('https://image.ibb.co/btGeAA/tom.png')\n",
        "      self.mouse = imread('https://image.ibb.co/njNNxq/jerry.png')\n",
        "      self.confetti = imread('https://image.ibb.co/ganuAA/tom-and-jerry.png')\n",
        "      self.dim = 1.5\n",
        "      \n",
        "      self.rewards = []\n",
        "      \n",
        "  def _update_state(self, action):\n",
        "      state = self.state\n",
        "      # 0 = left\n",
        "      # 1 = right\n",
        "      # 2 = down\n",
        "      # 3 = up\n",
        "\n",
        "      fy, fx, py, px = state\n",
        "      old_d = abs(fx - px) + abs(fy - py)\n",
        "\n",
        "      if action == 0:\n",
        "          if px > 0:\n",
        "              px -= 1\n",
        "      if action == 1:\n",
        "          if px < self.grid_size-1:\n",
        "              px += 1\n",
        "      if action == 2:\n",
        "          if py > 0:\n",
        "              py-= 1\n",
        "      if action == 3:\n",
        "          if py < self.grid_size-1:\n",
        "              py += 1\n",
        "\n",
        "      new_d = abs(fx - px) + abs(fy - py)\n",
        "      self.d = old_d-new_d\n",
        "      self.time = self.time - 1\n",
        "      return np.array([fy, fx, py, px])\n",
        "\n",
        "  def _get_reward(self):\n",
        "    fruit_y, fruit_x, player_y, player_x = self.state\n",
        "    if fruit_x == player_x and fruit_y == player_y: return 1\n",
        "    if self.d == 1: return 1\n",
        "    if self.d == 0: return -1\n",
        "    if self.d == -1: return -1\n",
        "\n",
        "  def _is_over(self):\n",
        "    fruit_y, fruit_x, player_y, player_x = self.state\n",
        "    if self.time == 0: return True\n",
        "    if fruit_x == player_x and fruit_y == player_y: return True\n",
        "    return False\n",
        "\n",
        "  def step(self, action):\n",
        "    self.state = self._update_state(action)\n",
        "    reward = self._get_reward()\n",
        "    self.rewards.append(reward)\n",
        "    game_over = self._is_over()\n",
        "    return self.state, reward, game_over\n",
        "  \n",
        "  def render(self):\n",
        "    im_size = (self.grid_size,)*2\n",
        "    state = self.state\n",
        "    \n",
        "    self.fig = plt.figure(figsize=(8, 6), dpi=80)\n",
        "    self.ax = self.fig.add_subplot(111)\n",
        "    \n",
        "    self.ax.clear()\n",
        "    self.ax.set_ylim((-1, self.grid_size))\n",
        "    self.ax.set_xlim((-1, self.grid_size))\n",
        "    # self.ax.axis('off') # uncomment to turn off axes\n",
        "    self.ax.get_xaxis().set_ticks(range(self.grid_size))\n",
        "    self.ax.get_yaxis().set_ticks(range(self.grid_size))\n",
        "    \n",
        "    xc = state[2]\n",
        "    yc = state[3]\n",
        "    xm = state[0]\n",
        "    ym = state[1]\n",
        "    \n",
        "    if state[0] == state[2] and state[1] == state[3]:\n",
        "      self.ax.imshow(self.confetti, \n",
        "                     extent=(-1, self.grid_size,\n",
        "                             -1, self.grid_size))\n",
        "    else:\n",
        "      self.ax.imshow(self.mouse, \n",
        "                     extent=(xm-self.dim/4, xm+self.dim/4,\n",
        "                             ym-self.dim/4, ym+self.dim/4))\n",
        "      self.ax.imshow(self.cat, \n",
        "                     extent=(xc-self.dim/2, xc+self.dim/2,\n",
        "                             yc-self.dim/2, yc+self.dim/2))\n",
        "    self.fig.canvas.draw()\n",
        "    return np.array(self.fig.canvas.renderer._renderer)\n",
        "\n",
        "  def reset(self, deterministic=False):\n",
        "    if deterministic:\n",
        "      fruit_x = 0\n",
        "      fruit_y = 0\n",
        "      player_x = self.grid_size - 1\n",
        "      player_y = self.grid_size - 1\n",
        "      time = self.grid_size*2\n",
        "    else:\n",
        "      generated = False\n",
        "      while not generated\\\n",
        "      or abs(fruit_x - player_x) + abs(fruit_y - player_y) < self.grid_size/2:\n",
        "        fruit_x = np.random.randint(0, self.grid_size-1)\n",
        "        fruit_y = np.random.randint(0, self.grid_size-1)\n",
        "        player_x = np.random.randint(0, self.grid_size-1)\n",
        "        player_y = np.random.randint(0, self.grid_size-1)\n",
        "        time = abs(fruit_x - player_x) + abs(fruit_y - player_y)\n",
        "        time *= 2\n",
        "        generated = True\n",
        "\n",
        "    self.time = time\n",
        "    self.d = 0\n",
        "    self.state = np.asarray([fruit_y, fruit_x, player_y, player_x])\n",
        "\n",
        "    return self.state"
      ],
      "execution_count": 0,
      "outputs": []
    },
    {
      "metadata": {
        "colab_type": "text",
        "id": "v7Urs08uH78l"
      },
      "cell_type": "markdown",
      "source": [
        "### Random actions\n",
        "This runs the environment using random actions."
      ]
    },
    {
      "metadata": {
        "colab_type": "code",
        "id": "KNFJqPD4N3xm",
        "colab": {}
      },
      "cell_type": "code",
      "source": [
        "\"\"\"\n",
        "This runs the environment using random actions\n",
        "\"\"\"\n",
        "\n",
        "# print('Setting up environment')\n",
        "env = Environment(11)\n",
        "num_episodes = 1 # number of games we want the agent to play\n",
        "env.reset()\n",
        "frames = []\n",
        "RENDER = True\n",
        "# print('Running random simulation')\n",
        "for episode in range(num_episodes):\n",
        "#   print('Resetting environment')\n",
        "  s = env.reset() # Initial state\n",
        "  while True: \n",
        "    a = np.random.choice(range(4)) # choose a random action\n",
        "    s_, r, done = env.step(a)      # apply random action\n",
        "    \n",
        "    if RENDER:\n",
        "      fig = env.render()\n",
        "#       plt.imshow(fig)\n",
        "#       plt.show()\n",
        "      frames.append(fig)\n",
        "\n",
        "    if done:\n",
        "      break"
      ],
      "execution_count": 0,
      "outputs": []
    },
    {
      "metadata": {
        "colab_type": "text",
        "id": "rDHMlgTaljVk"
      },
      "cell_type": "markdown",
      "source": [
        "## 3 - Brain\n",
        "\n",
        "The 'brain' of the agent is where the model is created and held.\n",
        "\n",
        "### Neural Network structure for our task\n",
        "\n",
        "<img src=\"http://drive.google.com/uc?export=view&id=1KsdRkIp9_w-wdTDMYANAO6BEdXdllYAC\" width=\"60%\" height=\"60%\">\n",
        "\n",
        "\n",
        "\n",
        "Our DQN takes a stack of four-tuple as an input. It is passed through two hidden networks, and output a vector of Q-values for each action possible in the given state. \\\\\n",
        "** Example: **\n",
        "$Q(s_t, a_1)$ - q-value for a given state $s$, if we choose action $a_1$ \\\\\n",
        "We need to choose such an action, that will return the highest Q-value.\n",
        "\n",
        "In the beginning, the agent does really badly. But over time, it begins to associate states with best actions to do."
      ]
    },
    {
      "metadata": {
        "colab_type": "code",
        "id": "1czfGeThfWis",
        "colab": {}
      },
      "cell_type": "code",
      "source": [
        "#-------------------- BRAIN ---------------------------\n",
        "\n",
        "class Brain:\n",
        "  \"\"\"The 'brain' of the agent, where the model is created and held.\n",
        "  \n",
        "  state_dim (int): the size of the observation space\n",
        "  action_dim (int): the size of the action space\n",
        "  \n",
        "  \"\"\"\n",
        "  def __init__(self, state_dim, action_dim, weights=None):\n",
        "    self.state_dim = state_dim\n",
        "    self.action_dim = action_dim\n",
        "\n",
        "    self.model = self._createModel()\n",
        "    if weights:\n",
        "      self.model.load_weights(\"brain.h5\")\n",
        "\n",
        "  def _createModel(self):\n",
        "    # Creates a Sequential Keras model\n",
        "    # This acts as the Deep Q-Network (DQN)\n",
        "    \n",
        "    model = Sequential()\n",
        "    model.add(Dense(128, activation=\"relu\", input_shape=(self.state_dim,)))\n",
        "    model.add(Dropout(0.2))\n",
        "    model.add(Dense(128, activation=\"relu\"))\n",
        "    model.add(Dropout(0.2))\n",
        "    model.add(Dense(self.action_dim, activation=\"linear\"))\n",
        "\n",
        "    opt = RMSprop(lr=0.00025)\n",
        "    model.compile(loss='mse', optimizer=opt)\n",
        "\n",
        "    return model\n",
        "\n",
        "  def train(self, x, y, epoch=1, verbose=0):\n",
        "    self.model.fit(x, y, batch_size=64, epochs=epoch, verbose=verbose)\n",
        "\n",
        "  def predict(self, s):\n",
        "    return self.model.predict(s)\n",
        "\n",
        "  def predictOne(self, s):\n",
        "    return self.predict(s.reshape(1, self.state_dim)).flatten()"
      ],
      "execution_count": 0,
      "outputs": []
    },
    {
      "metadata": {
        "colab_type": "text",
        "id": "YVD3qUwcozM1"
      },
      "cell_type": "markdown",
      "source": [
        "## 4 - Memory\n",
        "\n",
        "In this block we are defining the main functions that will be used to store the experiences of our agent."
      ]
    },
    {
      "metadata": {
        "colab_type": "code",
        "id": "9Uq8Aen6fZUD",
        "colab": {}
      },
      "cell_type": "code",
      "source": [
        "#-------------------- MEMORY --------------------------\n",
        "class Memory:   # stored as ( s, a, r, s_ )\n",
        "  \"\"\"The agent's 'memory', where experiences are stored\n",
        "  \"\"\"\n",
        "\n",
        "  def __init__(self, capacity):\n",
        "    self.capacity = capacity\n",
        "    self.samples = []\n",
        "\n",
        "  def add(self, sample):\n",
        "    # a sample should be an array [s, a, r, s_]\n",
        "    # s: current state\n",
        "    # a: current action\n",
        "    # r: current reward\n",
        "    # s_: next state\n",
        "    self.samples.append(sample)        \n",
        "\n",
        "    if len(self.samples) > self.capacity:\n",
        "        self.samples.pop(0)\n",
        "\n",
        "  def sample(self, n):\n",
        "    n = min(n, len(self.samples))\n",
        "    return random.sample(self.samples, n)"
      ],
      "execution_count": 0,
      "outputs": []
    },
    {
      "metadata": {
        "colab_type": "text",
        "id": "kAFiQY7ApMyT"
      },
      "cell_type": "markdown",
      "source": [
        "## 5 - Agent\n",
        "\n",
        "[np.amax](https://docs.scipy.org/doc/numpy-1.15.0/reference/generated/numpy.amax.html) - \n",
        "Returns the maximum of an array \n",
        "\n",
        "### Epsilon\n",
        "\n",
        "Our agent will randomly select its action at first by a certain percentage, called ‘exploration rate’ or ‘epsilon’. This is because at first, it is better for the agent to try all kinds of things before it starts to see the patterns. When it is not deciding the action randomly, the agent will predict the reward value based on the current state and pick the action that will give the highest reward. We want our agent to decrease the number of random action, as it goes, so we introduce an exponential-decay epsilon, that eventually will allow our agent to explore the environment. \\\\\n",
        "\n",
        "**Exponential-decay formula for epsilon:** \\\\\n",
        "\n",
        "\\begin{equation}\n",
        "\\epsilon = \\epsilon_{min} + (\\epsilon_{max} - \\epsilon_{min})*e^{-\\lambda|S|},\n",
        "\\end{equation}\n",
        "\n",
        "where $\\epsilon_{min}, \\epsilon_{max} \\in [0, 1]$ \\\\\n",
        "$\\lambda$ - hyperparameter for epsilon \\\\\n",
        "$|S|$ - total number of steps\n",
        "\n",
        "### Q-function:\n",
        "\\\\\n",
        "            \\begin{align} \\notag\n",
        "            Q_t = \\begin{cases} r_t, & \\mbox{if episode terminates at step } t+1 \\\\ r_t + \\gamma max_aQ(s_t, a_t; \\Theta), & \\mbox{otherwise} \\end{cases}\n",
        "            \\end{align} "
      ]
    },
    {
      "metadata": {
        "colab_type": "code",
        "id": "Nxd6viX_tiCu",
        "colab": {}
      },
      "cell_type": "code",
      "source": [
        "#-------------------- AGENT ---------------------------\n",
        "\n",
        "class Agent:\n",
        "  \"\"\"The agent, which learns to navigate the environment\n",
        "  \n",
        "  \"\"\"\n",
        "  \n",
        "  def __init__(self, state_dim, action_dim, memory_capacity = 10000,\n",
        "              batch_size = 64, gamma = 0.5, lamb = 0.001,\n",
        "               max_epsilon = 1., min_epsilon = 0.01):\n",
        "    self.state_dim = state_dim\n",
        "    self.action_dim = action_dim\n",
        "\n",
        "    self.batch_size = batch_size\n",
        "    self.gamma = gamma\n",
        "    self.lamb = lamb\n",
        "    self.max_epsilon = max_epsilon\n",
        "    self.epsilon = max_epsilon\n",
        "    self.min_epsilon = min_epsilon\n",
        "\n",
        "    self.brain = Brain(state_dim, action_dim)\n",
        "    self.memory = Memory(memory_capacity)\n",
        "    self.steps = 0\n",
        "    self.epsilons = []\n",
        "\n",
        "  def act(self, s, verbose=False):\n",
        "    \"\"\"The policy of the agent:\n",
        "    Here, we determine if we explore (take a random action) based on epsilon.\n",
        "    If not, we have the model predict the Q-Values for the state,\n",
        "    then take the action which maximizes those values.\n",
        "    \"\"\"\n",
        "    if random.random() < self.epsilon:\n",
        "      if verbose:\n",
        "        print(\"Random Action.\")\n",
        "      return random.randint(0, self.action_dim-1)\n",
        "    else:\n",
        "      actions = self.brain.predictOne(s)\n",
        "      if verbose:\n",
        "        print(\"Actions:\", actions)\n",
        "      return np.argmax(actions)\n",
        "\n",
        "  def observe(self, sample):  # in (s, a, r, s_) format\n",
        "    \"\"\"The agent observes an event.\n",
        "    We pass a sample (state, action, reward, next state) to be stored in memory.\n",
        "    We then increment the step count and adjust epsilon accordingly.\n",
        "    \"\"\"\n",
        "    self.memory.add(sample)        \n",
        "\n",
        "    # slowly decrease Epsilon based on our eperience\n",
        "    self.steps += 1\n",
        "    \n",
        "    # calculate epsilon\n",
        "    self.epsilon = self.min_epsilon + (self.max_epsilon - self.min_epsilon) * \\\n",
        "                    math.exp((-self.lamb) * abs(self.steps))\n",
        "    \n",
        "    self.epsilons.append(self.epsilon)\n",
        "\n",
        "  def replay(self):\n",
        "    \"\"\"The agent learns based on previous experiences.\n",
        "    We sample observations (state, action, reward, next state) from memory.\n",
        "    We train the model based on these observations.\n",
        "    \"\"\"\n",
        "    \n",
        "    # Random sample of experiences\n",
        "    batch = self.memory.sample(self.batch_size)\n",
        "    batch_size = len(batch)\n",
        "\n",
        "    # Extracting states ('current' and 'next') from samples\n",
        "    no_state = np.zeros(self.state_dim)\n",
        "    states = np.array([ o[0] for o in batch ])\n",
        "    states_next = np.array([(no_state if o[3] is None else o[3]) for o in batch])\n",
        "\n",
        "    # Estimating Q-Values for states\n",
        "    q_vals = self.brain.predict(states)\n",
        "    q_vals_next = self.brain.predict(states_next)\n",
        "\n",
        "    # Setting up training data\n",
        "    x = np.zeros((batch_size, self.state_dim))\n",
        "    y = np.zeros((batch_size, self.action_dim))\n",
        "    \n",
        "    for i in range(batch_size):\n",
        "      # Observation\n",
        "      obs = batch[i]\n",
        "      \n",
        "      # State, Action, Reward, Next State\n",
        "      st = obs[0]; act = obs[1]; rew = obs[2]; st_next = obs[3]\n",
        "      \n",
        "      # Estimated Q-Values for Observation\n",
        "      t = q_vals[i]\n",
        "\n",
        "      # Implement Q-function\n",
        "      if st_next is None:\n",
        "        t[act] = rew\n",
        "      else:\n",
        "        t[act] = rew + self.gamma * np.amax(q_vals_next)\n",
        "\n",
        "      # Set training data\n",
        "      x[i] = st\n",
        "      y[i] = t\n",
        "\n",
        "    # Train\n",
        "    self.brain.train(x, y)"
      ],
      "execution_count": 0,
      "outputs": []
    },
    {
      "metadata": {
        "colab_type": "text",
        "id": "EMwl9zrRp0J8"
      },
      "cell_type": "markdown",
      "source": [
        "## 6 - Running the game\n",
        "\n",
        "### Environment\n",
        "First, we initialize our environment.  The environment, loosely structured like [OpenAI's Gym Environments](https://gym.openai.com/), has three main methods: `reset`, `step` and `render`.\n",
        "\n",
        "- When we call **reset**, we initialize the environment with a fresh episode. This allows us to effectively run through episodes (only needing to call reset at the beginning of an episode), but, more importantly, `reset()` returns the environment's initial state.\n",
        "\n",
        "- The **step** method accepts an action as a parameter (which, for this example, is an integer in [0, 3]), processes the action, and returns the new state, the reward for performing the action, and a boolean indicating if the run is over.\n",
        "\n",
        "- The **render** method simply displays the state in a \"human-readable\" way. In this example, it renders an image of the environment as well as diagnostic data. This method is solely used for debugging purposes, and can be omitted to speed up training time.\n",
        "\n",
        "### Agent\n",
        "When we initialize the agent, we must pass both a `state_dim` and `action_dim` into it's constructor.  These values tell the agent the dimensions of the input and the output of the neural network.  The agent has three main methods: `act`, `observe`, and `replay`.\n",
        "\n",
        "- The **act** method takes the current state as input and returns the agent's selected action.  Optionally, you can pass a boolean to it's `verbose` parameter to print the resulting Q-Values.  Within the method, we first check if we should choose a random action (in order to explore) by comparing a randomly generated number to epsilon. If the agent decides to return a random action, then it's simply a randomly selected action from the action space (in this case, an integer in [0,3]).\n",
        "\n",
        "  If the agent doesn't choose a random action, then the state is passed to the agent's neural network (i.e., it's `Brain` object).  This results in an array of expected discounted rewards corresponding to each action (so, for example, if the resulting array is `[0.1, 2.3, 1.5, -0.7]`, then this means it expects choosing action `0` to lead to discounted rewards of `0.1`, action `1` leading to `2.3`, etc.).  Since we are greedy with our choices, we merely choose the action corresponding to the largest reward.\n",
        "\n",
        "- The **observe** method receives an observation tuple `(s, a, r, s_)` as input and doesn't return anything.  Here, the observation tuple contains the current state `s`, the agent's action `a` at the current state, the reward `r` received for taking the action at the current state, and the resulting state `s_` that occurs after taking the action at the current state.  This tuple is saved to the agent's `Memory`, which acts as a simple queue.\n",
        "\n",
        "- The **replay** method is where any actual learning occurs.  Up to this point, we haven't trained the agent's neural network, only applied it to determine actions given states.  In order to train it, we implement **Experience Replay**, which, in short, allows the agent to not only learn from recent observations but also previous observations.  During experience replay, we randomly sample a set of observations from the agent's `Memory`.  These observations are then constructed in a way that allows us to pass them through the neural network to train it.  \n",
        "\n",
        "  Simply put: after we make a complete observation, we have generated a training example.  The input for the example is the state, and the output is the expected discounted reward for each action.  In this way, training works the same way it would in any classical deep learning task (except our data is generated on the fly instead of collected prior to training).\n",
        "\n",
        "### Algorithm\n",
        "\n",
        "The algorithm, implemented below, simply calls these methods in sequence for some given number of episodes.  At the beginning of an episode, we reset the environment, and pass it's return value, the initial state, to the agent's act method.  This returns an action, which is then passed to the environment's step method.  This returns the next state, the reward, and the boolean indicating if the episode is over.  We then save the observation tuple to the agent's memory via the agent's observe method, then run a round of training by calling the agent's replay method.  We can then render the environment.  If the episode is over, we break from this loop, otherwise we continue with the next state being passed to the agent as the (now) current state.\n",
        "\n",
        "When the environment is set to have a 5x5 grid, the maximum reward is 8.  You'll find the training will converge to a rolling average of over 6 reward in about 10,000 episodes.  If all the code is implemented above, running the following cell unchanged should be sufficient.  In Google Colab, this takes about 15 minutes to run until completion."
      ]
    },
    {
      "metadata": {
        "colab_type": "code",
        "id": "eNF00A8ktvUs",
        "outputId": "8b5a5a55-9d26-41da-9011-79bdeef7f450",
        "colab": {
          "base_uri": "https://localhost:8080/",
          "height": 275
        }
      },
      "cell_type": "code",
      "source": [
        "#-------------------- MAIN ----------------------------\n",
        "print('Setting up environment')\n",
        "env = Environment(11)\n",
        "\n",
        "state_dim = 4\n",
        "action_dim = 4             # left, right, up, down\n",
        "print('Setting up agent')\n",
        "MAX_EPSILON = 1            # the rate in which an agent randomly decides its action\n",
        "MIN_EPSILON = 0.01         # min rate in which an agent randomly decides its action\n",
        "LAMBDA = 0.000005          # speed of decay for epsilon\n",
        "num_episodes = 50000       # number of games we want the agent to play\n",
        "\n",
        "VERBOSE = False\n",
        "agent = Agent(state_dim, action_dim, lamb=LAMBDA,\n",
        "              max_epsilon=MAX_EPSILON, min_epsilon=MIN_EPSILON)\n",
        "env.reset()\n",
        "episode_rewards = []\n",
        "epsilons = []\n",
        "t0 = time.time()\n",
        "frames = []\n",
        "\n",
        "print('Running simulation')\n",
        "for episode in range(num_episodes):\n",
        "  s = env.reset() # Initial state\n",
        "  if episode % 1000 == 0:\n",
        "      fig = env.render()\n",
        "      frames.append(fig)\n",
        "  R = 0\n",
        "  while True: \n",
        "    a = agent.act(s, verbose=VERBOSE)\n",
        "\n",
        "    s_, r, done = env.step(a)\n",
        "\n",
        "    if done: # terminal state\n",
        "        s_ = None\n",
        "\n",
        "    agent.observe( (s, a, r, s_) )\n",
        "    agent.replay()\n",
        "\n",
        "    s = s_\n",
        "    R += r\n",
        "    \n",
        "    if episode % 1000 == 0:\n",
        "      fig = env.render()\n",
        "      frames.append(fig)\n",
        "    \n",
        "    if VERBOSE:\n",
        "      print(\"Action:\", a)\n",
        "      print(\"Reward:\", r)\n",
        "\n",
        "    if done:\n",
        "      break\n",
        "      \n",
        "  epsilons.append(agent.epsilon)\n",
        "  episode_rewards.append(R)\n",
        "  \n",
        "#   if episode % 500 == 0:\n",
        "#     print('Episode {}'.format(episode))\n",
        "#     print('Time Elapsed: {0:.2f}s'.format(time.time() - t0))\n",
        "#     print('Epsilon {}'.format(epsilons[-1]))\n",
        "#     print('Last Episode Reward: {}'.format(R))\n",
        "#     print('Episode Reward Rolling Mean: {}'.format(\n",
        "#         np.mean(episode_rewards[:-100])))\n",
        "#     print('-'*10)\n",
        "\n",
        "agent.brain.model.save(\"brain.h5\")"
      ],
      "execution_count": 7,
      "outputs": [
        {
          "output_type": "stream",
          "text": [
            "Setting up environment\n",
            "Setting up agent\n",
            "WARNING:tensorflow:From /usr/local/lib/python3.6/dist-packages/tensorflow/python/framework/op_def_library.py:263: colocate_with (from tensorflow.python.framework.ops) is deprecated and will be removed in a future version.\n",
            "Instructions for updating:\n",
            "Colocations handled automatically by placer.\n",
            "WARNING:tensorflow:From /usr/local/lib/python3.6/dist-packages/keras/backend/tensorflow_backend.py:3445: calling dropout (from tensorflow.python.ops.nn_ops) with keep_prob is deprecated and will be removed in a future version.\n",
            "Instructions for updating:\n",
            "Please use `rate` instead of `keep_prob`. Rate should be set to `rate = 1 - keep_prob`.\n",
            "Running simulation\n",
            "WARNING:tensorflow:From /usr/local/lib/python3.6/dist-packages/tensorflow/python/ops/math_ops.py:3066: to_int32 (from tensorflow.python.ops.math_ops) is deprecated and will be removed in a future version.\n",
            "Instructions for updating:\n",
            "Use tf.cast instead.\n"
          ],
          "name": "stdout"
        },
        {
          "output_type": "stream",
          "text": [
            "/usr/local/lib/python3.6/dist-packages/matplotlib/pyplot.py:514: RuntimeWarning: More than 20 figures have been opened. Figures created through the pyplot interface (`matplotlib.pyplot.figure`) are retained until explicitly closed and may consume too much memory. (To control this warning, see the rcParam `figure.max_open_warning`).\n",
            "  max_open_warning, RuntimeWarning)\n"
          ],
          "name": "stderr"
        }
      ]
    },
    {
      "metadata": {
        "colab_type": "code",
        "id": "eBiUaA2vSipn",
        "outputId": "5e15d71a-4e0d-4e1b-b44b-e8db75784ea3",
        "colab": {
          "base_uri": "https://localhost:8080/",
          "height": 462
        }
      },
      "cell_type": "code",
      "source": [
        "%matplotlib inline\n",
        "\n",
        "plt.figure(figsize=(8, 6), dpi=80)\n",
        "plt.title(\"Epsilon\")\n",
        "plt.xlabel(\"Episode\")\n",
        "plt.ylabel(\"Epsilon value\")\n",
        "plt.plot(epsilons)"
      ],
      "execution_count": 8,
      "outputs": [
        {
          "output_type": "execute_result",
          "data": {
            "text/plain": [
              "[<matplotlib.lines.Line2D at 0x7f6387b0b908>]"
            ]
          },
          "metadata": {
            "tags": []
          },
          "execution_count": 8
        },
        {
          "output_type": "display_data",
          "data": {
            "image/png": "[encoded data removed]",
            "text/plain": [
              "<Figure size 640x480 with 1 Axes>"
            ]
          },
          "metadata": {
            "tags": []
          }
        }
      ]
    },
    {
      "metadata": {
        "colab_type": "code",
        "id": "9xjl4YwpS8WU",
        "outputId": "e83fe618-7bba-415d-c7c1-5e7c3098596d",
        "colab": {
          "base_uri": "https://localhost:8080/",
          "height": 462
        }
      },
      "cell_type": "code",
      "source": [
        "smoothing = 50\n",
        "plt.figure(figsize=(8, 6), dpi=80)\n",
        "plt.title(\"Episode Reward\")\n",
        "plt.xlabel(\"Episode\")\n",
        "plt.ylabel(\"Reward\".format(smoothing))\n",
        "episode_ma = np.convolve(episode_rewards, \n",
        "                         np.ones((smoothing,))/smoothing, mode='valid')\n",
        "plt.plot(episode_ma)"
      ],
      "execution_count": 9,
      "outputs": [
        {
          "output_type": "execute_result",
          "data": {
            "text/plain": [
              "[<matplotlib.lines.Line2D at 0x7f638fbf66a0>]"
            ]
          },
          "metadata": {
            "tags": []
          },
          "execution_count": 9
        },
        {
          "output_type": "display_data",
          "data": {
            "image/png": "[encoded data removed]",
            "text/plain": [
              "<Figure size 640x480 with 1 Axes>"
            ]
          },
          "metadata": {
            "tags": []
          }
        }
      ]
    },
    {
      "metadata": {
        "colab_type": "code",
        "id": "6I0iVz-MtXG-",
        "outputId": "794b9a85-0a93-4762-a8d6-a7ea1e5cc63d",
        "colab": {
          "base_uri": "https://localhost:8080/",
          "height": 170
        }
      },
      "cell_type": "code",
      "source": [
        "\"\"\"\n",
        "To create animation, you need to install ffmpeg\n",
        "These lines will install it in Google Colab\n",
        "If you're running this notebook locally, you'll need to install\n",
        "ffmpeg on your computer: \n",
        "https://github.com/adaptlearning/adapt_authoring/wiki/Installing-FFmpeg\n",
        "\n",
        "Note: these lines will only work in Google Colab, do not run them locally.\n",
        "\"\"\"\n",
        "\n",
        "!apt install ffmpeg\n",
        "!which ffmpeg\n",
        "plt.rcParams['animation.ffmpeg_path'] = u'/usr/bin/ffmpeg'"
      ],
      "execution_count": 10,
      "outputs": [
        {
          "output_type": "stream",
          "text": [
            "Reading package lists... Done\n",
            "Building dependency tree       \n",
            "Reading state information... Done\n",
            "ffmpeg is already the newest version (7:3.4.4-0ubuntu0.18.04.1).\n",
            "The following package was automatically installed and is no longer required:\n",
            "  libnvidia-common-410\n",
            "Use 'apt autoremove' to remove it.\n",
            "0 upgraded, 0 newly installed, 0 to remove and 6 not upgraded.\n",
            "/usr/bin/ffmpeg\n"
          ],
          "name": "stdout"
        }
      ]
    },
    {
      "metadata": {
        "colab_type": "code",
        "id": "E9ovkf9LMOZE",
        "outputId": "6167a70c-b407-4832-946e-3449e1b4c6d9",
        "colab": {
          "base_uri": "https://localhost:8080/",
          "height": 269
        }
      },
      "cell_type": "code",
      "source": [
        "\"\"\"\n",
        "This cell will compile the frames that should have been saved during training\n",
        "into an animation.  This required ffmpeg to be installed.\n",
        "\n",
        "If the main portion wasn't modified, this will have saved frames from every\n",
        "1,000 episode.  In the animation, you should see it start off performing poorly,\n",
        "but as it progresses it should perform optimally.\n",
        "\"\"\"\n",
        "\n",
        "fig, ax = plt.subplots()\n",
        "plt.axis('off')\n",
        "l = ax.imshow(frames[0])\n",
        "\n",
        "def animate(i):\n",
        "    l.set_data(frames[i])\n",
        "\n",
        "Writer = animation.writers['ffmpeg']\n",
        "writer = Writer(fps=6, metadata=dict(artist='Siddheswar C'))\n",
        "ani = animation.FuncAnimation(fig, animate, frames=len(frames))\n",
        "\n",
        "ani.save('animation.mp4', writer=writer, dpi=1200)\n",
        "time.sleep(5) # let it process (only necessary in Colab)"
      ],
      "execution_count": 11,
      "outputs": [
        {
          "output_type": "display_data",
          "data": {
            "image/png": "[encoded data removed]",
            "text/plain": [
              "<Figure size 432x288 with 1 Axes>"
            ]
          },
          "metadata": {
            "tags": []
          }
        }
      ]
    },
    {
      "metadata": {
        "colab_type": "code",
        "id": "3xLRv4G5JB0y",
        "colab": {}
      },
      "cell_type": "code",
      "source": [
        "\"\"\"\n",
        "If you're using Google Colab, you'll need to use the Google Colab\n",
        "download function to download both the model you trained and the animation\n",
        "you created.\n",
        "\n",
        "If you're not using Google Colab, those files should be saved in the directory\n",
        "where this notebook is located.\n",
        "\"\"\"\n",
        "\n",
        "# To Save Brain\n",
        "files.download(\"brain.h5\")\n",
        "\n",
        "# To Save Animation\n",
        "files.download('animation.mp4')"
      ],
      "execution_count": 0,
      "outputs": []
    }
  ]
}